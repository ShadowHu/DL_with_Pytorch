{
 "cells": [
  {
   "cell_type": "code",
   "execution_count": 61,
   "metadata": {},
   "outputs": [],
   "source": [
    "from torchvision import transforms\n",
    "from torchvision.datasets import ImageFolder\n",
    "import torchvision.models as models\n",
    "import torch.nn as nn\n",
    "import torch\n",
    "import matplotlib.pyplot as plt\n",
    "import numpy as np\n",
    "import os, glob"
   ]
  },
  {
   "cell_type": "code",
   "execution_count": 62,
   "metadata": {},
   "outputs": [],
   "source": [
    "path = '../DL_with_Pytorch/Chapter3/dogs-vs-cats'\n",
    "files = glob.glob(os.path.join(path, '*/*.jpg'))"
   ]
  },
  {
   "cell_type": "code",
   "execution_count": 63,
   "metadata": {},
   "outputs": [],
   "source": [
    "no_of_images = len(files)"
   ]
  },
  {
   "cell_type": "code",
   "execution_count": 64,
   "metadata": {},
   "outputs": [],
   "source": [
    "shuffle = np.random.permutation(no_of_images)"
   ]
  },
  {
   "cell_type": "code",
   "execution_count": 65,
   "metadata": {},
   "outputs": [],
   "source": [
    "# os.mkdir(os.path.join(path, 'valid'))"
   ]
  },
  {
   "cell_type": "code",
   "execution_count": 66,
   "metadata": {},
   "outputs": [],
   "source": [
    "# for t in ['train', 'valid']:\n",
    "#     for folder in ['dog/', 'cat/']:\n",
    "#         os.mkdir(os.path.join(path, t, folder))"
   ]
  },
  {
   "cell_type": "code",
   "execution_count": 67,
   "metadata": {},
   "outputs": [],
   "source": [
    "# for i in shuffle[:2000]:\n",
    "#     folder = files[i].split('/')[-1].split('.')[0]\n",
    "#     image = files[i].split('/')[-1]\n",
    "#     os.rename(files[i], os.path.join(path, 'valid', folder, image))"
   ]
  },
  {
   "cell_type": "code",
   "execution_count": 68,
   "metadata": {},
   "outputs": [],
   "source": [
    "# for i in shuffle[2000:]:\n",
    "#     folder = files[i].split('/')[-1].split('.')[0]\n",
    "#     image = files[i].split('/')[-1]\n",
    "#     os.rename(files[i], os.path.join(path, 'train', folder, image))"
   ]
  },
  {
   "cell_type": "code",
   "execution_count": 69,
   "metadata": {},
   "outputs": [],
   "source": [
    "### Loading data into Pytorch tensors ###\n",
    "simple_transform = transforms.Compose([\n",
    "    transforms.Scale((256,256)), # scale the size, should be 256, not 224\n",
    "    transforms.ToTensor(),\n",
    "    transforms.Normalize([0.485, 0.456, 0.406],\n",
    "                        [0.229, 0.224, 0.225])\n",
    "])\n",
    "train = ImageFolder('dogs-vs-cats/train', simple_transform) # read images\n",
    "valid = ImageFolder('dogs-vs-cats/valid', simple_transform) # return PIL image Object"
   ]
  },
  {
   "cell_type": "code",
   "execution_count": 22,
   "metadata": {},
   "outputs": [
    {
     "data": {
      "text/plain": [
       "{'cat': 0, 'dog': 1}"
      ]
     },
     "execution_count": 22,
     "metadata": {},
     "output_type": "execute_result"
    }
   ],
   "source": [
    "train.class_to_idx"
   ]
  },
  {
   "cell_type": "code",
   "execution_count": 23,
   "metadata": {},
   "outputs": [
    {
     "data": {
      "text/plain": [
       "['cat', 'dog']"
      ]
     },
     "execution_count": 23,
     "metadata": {},
     "output_type": "execute_result"
    }
   ],
   "source": [
    "train.classes"
   ]
  },
  {
   "cell_type": "code",
   "execution_count": 59,
   "metadata": {},
   "outputs": [],
   "source": [
    "def imshow(inp):\n",
    "    inp = inp.numpy().transpose((1,2,0))\n",
    "#     mean = np.array([0.485, 0.456, 0.406])\n",
    "#     std = np.array([0.229, 0.224, 0.225])\n",
    "#     inp = std * inp + mean\n",
    "    inp = np.clip(inp, 0, 1)\n",
    "    print(inp)\n",
    "    plt.imshow(inp)"
   ]
  },
  {
   "cell_type": "code",
   "execution_count": 60,
   "metadata": {},
   "outputs": [
    {
     "name": "stdout",
     "output_type": "stream",
     "text": [
      "[[[1.         0.83543426 0.        ]\n",
      "  [1.         0.87044823 0.        ]\n",
      "  [1.         0.9229692  0.        ]\n",
      "  ...\n",
      "  [1.         1.         0.2870589 ]\n",
      "  [1.         1.         0.32191727]\n",
      "  [1.         1.         0.3044881 ]]\n",
      "\n",
      " [[1.         0.83543426 0.        ]\n",
      "  [1.         0.87044823 0.        ]\n",
      "  [1.         0.9229692  0.        ]\n",
      "  ...\n",
      "  [1.         1.         0.2870589 ]\n",
      "  [1.         1.         0.33934647]\n",
      "  [1.         1.         0.32191727]]\n",
      "\n",
      " [[1.         0.83543426 0.        ]\n",
      "  [1.         0.87044823 0.        ]\n",
      "  [1.         0.9229692  0.        ]\n",
      "  ...\n",
      "  [1.         1.         0.32191727]\n",
      "  [1.         1.         0.33934647]\n",
      "  [1.         1.         0.32191727]]\n",
      "\n",
      " ...\n",
      "\n",
      " [[0.5193082  0.11764706 0.        ]\n",
      "  [0.5193082  0.11764706 0.        ]\n",
      "  [0.5364329  0.13515405 0.        ]\n",
      "  ...\n",
      "  [0.         0.         0.        ]\n",
      "  [0.         0.         0.        ]\n",
      "  [0.         0.         0.        ]]\n",
      "\n",
      " [[0.50218344 0.10014006 0.        ]\n",
      "  [0.50218344 0.10014006 0.        ]\n",
      "  [0.5193082  0.11764706 0.        ]\n",
      "  ...\n",
      "  [0.         0.         0.        ]\n",
      "  [0.         0.         0.        ]\n",
      "  [0.         0.         0.        ]]\n",
      "\n",
      " [[0.46793392 0.06512605 0.        ]\n",
      "  [0.46793392 0.06512605 0.        ]\n",
      "  [0.4850587  0.08263306 0.        ]\n",
      "  ...\n",
      "  [0.         0.         0.        ]\n",
      "  [0.         0.         0.        ]\n",
      "  [0.         0.         0.        ]]]\n"
     ]
    },
    {
     "data": {
      "image/png": "[encoded data removed]",
      "text/plain": [
       "<Figure size 432x288 with 1 Axes>"
      ]
     },
     "metadata": {
      "needs_background": "light"
     },
     "output_type": "display_data"
    }
   ],
   "source": [
    "imshow(train[0][0])"
   ]
  },
  {
   "cell_type": "code",
   "execution_count": null,
   "metadata": {},
   "outputs": [],
   "source": [
    "train_data_gen = torch.utils.data.DataLoader(train, batch_size=64, num_workers=3)\n",
    "valid_data_gen = torch.utils.data.DataLoader(train, batch_size=64, num_workers=3)"
   ]
  },
  {
   "cell_type": "code",
   "execution_count": null,
   "metadata": {},
   "outputs": [],
   "source": [
    "model_ft = models.resnet18(pretrained=True)\n",
    "num_ftrs = model_ft.fc.in_features\n",
    "model_ft.fc = nn.Linear(num_ftrs, 2)\n",
    "\n",
    "is_cuda = torch.cuda.is_available()\n",
    "if is_cuda:\n",
    "    model_ft = model_ft.cuda()"
   ]
  },
  {
   "cell_type": "code",
   "execution_count": null,
   "metadata": {},
   "outputs": [],
   "source": [
    "model_ft"
   ]
  },
  {
   "cell_type": "code",
   "execution_count": null,
   "metadata": {},
   "outputs": [],
   "source": [
    "model_ft.fc = nn.Linear(num_ftrs, 2)"
   ]
  },
  {
   "cell_type": "code",
   "execution_count": null,
   "metadata": {},
   "outputs": [],
   "source": []
  }
 ],
 "metadata": {
  "kernelspec": {
   "display_name": "py3env",
   "language": "python",
   "name": "py3env"
  },
  "language_info": {
   "codemirror_mode": {
    "name": "ipython",
    "version": 3
   },
   "file_extension": ".py",
   "mimetype": "text/x-python",
   "name": "python",
   "nbconvert_exporter": "python",
   "pygments_lexer": "ipython3",
   "version": "3.5.2"
  }
 },
 "nbformat": 4,
 "nbformat_minor": 2
}
